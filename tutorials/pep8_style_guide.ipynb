{
 "cells": [
  {
   "cell_type": "markdown",
   "metadata": {},
   "source": [
    "## Lesson 9: Standard Coding Practices\n",
    "* Objectives:\n",
    "\n",
    "    * PEP standards to write clear, compliant code.\n",
    "\n",
    "    * Understand core Pythonic principles to write code that can scale.\n",
    "    \n",
    "    * Explore pylint library"
   ]
  },
  {
   "cell_type": "markdown",
   "metadata": {},
   "source": [
    "### PEP8 Style Guide\n",
    "\n",
    "* PEP (Python Enhancement Proposals) are design documents that provide guidelines and best practices for writing Python code. \n",
    "\n",
    "*  Purpose of PEP Standards:\n",
    "    * Consistency: Ensures uniformity in code style across different projects and teams.\n",
    "\n",
    "    * Readability: Makes code easier to read and understand by following common conventions.\n",
    "\n",
    "    * Maintainability: Facilitates maintaining and updating code by adhering to standardized practices.\n",
    "    \n",
    "    * Collaboration: Promotes better collaboration among developers by using a common coding style."
   ]
  },
  {
   "cell_type": "markdown",
   "metadata": {},
   "source": [
    "Some Key Guidelines from PEP 8\n",
    "\n",
    "* Refer to the official documentation [here](https://peps.python.org/pep-0008/) for complete guidelines."
   ]
  },
  {
   "cell_type": "markdown",
   "metadata": {},
   "source": [
    "Naming Conventions"
   ]
  },
  {
   "cell_type": "code",
   "execution_count": 2,
   "metadata": {},
   "outputs": [],
   "source": [
    "# Variables and Functions: Use snake_case for variable and function names\n",
    "\n",
    "my_variable = 10\n",
    "def my_function():\n",
    "    pass"
   ]
  },
  {
   "cell_type": "code",
   "execution_count": 3,
   "metadata": {},
   "outputs": [],
   "source": [
    "# Classes: Use CamelCase for class names\n",
    "class MyClass:\n",
    "    pass"
   ]
  },
  {
   "cell_type": "code",
   "execution_count": 4,
   "metadata": {},
   "outputs": [],
   "source": [
    "# Constants: Use UPPER_CASE for constants.\n",
    "MAX_VALUE = 100"
   ]
  },
  {
   "cell_type": "markdown",
   "metadata": {},
   "source": [
    "Blank Lines\n",
    "* Use blank lines to separate top-level functions and class definitions.\n",
    "* Use two blank lines before and after class definitions.\n",
    "* Use one blank line to separate methods within a class.\n",
    "python\n"
   ]
  },
  {
   "cell_type": "code",
   "execution_count": 5,
   "metadata": {},
   "outputs": [],
   "source": [
    "class MyClass:\n",
    "    \n",
    "    def method_one(self):\n",
    "        pass\n",
    "    \n",
    "    def method_two(self):\n",
    "        pass\n",
    "\n"
   ]
  },
  {
   "cell_type": "markdown",
   "metadata": {},
   "source": [
    "Imports\n",
    "* Imports should be on separate lines.\n",
    "* Group imports in the following order: \n",
    "    1. standard library imports, \n",
    "    2. related third-party imports, \n",
    "    3. local application/library-specific imports.\n",
    "* Use absolute imports whenever possible.\n"
   ]
  },
  {
   "cell_type": "code",
   "execution_count": null,
   "metadata": {},
   "outputs": [],
   "source": [
    "# Standard libraries\n",
    "import os\n",
    "import sys\n",
    "\n",
    "# Third-party libraries\n",
    "import numpy as np\n",
    "import pandas as pd\n",
    "\n",
    "# Local libraries\n",
    "from mymodule import myfunction\n"
   ]
  },
  {
   "cell_type": "markdown",
   "metadata": {},
   "source": [
    "Comments\n",
    "* Use comments to explain why something is done, not what is done.\n",
    "* Block comments should start with # and a single space.\n",
    "* Inline comments should be separated by at least two spaces from the statement."
   ]
  },
  {
   "cell_type": "code",
   "execution_count": 7,
   "metadata": {},
   "outputs": [],
   "source": [
    "# This is a block comment\n",
    "x = 10\n",
    "x = x + 1  # Increment x by 1\n"
   ]
  },
  {
   "cell_type": "markdown",
   "metadata": {},
   "source": [
    "Docstrings\n",
    "* Use triple quotes for docstrings.\n",
    "* The docstring should describe the method's effect and arguments"
   ]
  },
  {
   "cell_type": "code",
   "execution_count": 8,
   "metadata": {},
   "outputs": [],
   "source": [
    "def my_function(param1, param2):\n",
    "    \"\"\"\n",
    "    This is a docstring.\n",
    "    \n",
    "    Args:\n",
    "        param1 (int): The first parameter.\n",
    "        param2 (str): The second parameter.\n",
    "    \n",
    "    Returns:\n",
    "        bool: The return value. True for success, False otherwise.\n",
    "    \"\"\"\n",
    "    pass\n"
   ]
  },
  {
   "cell_type": "markdown",
   "metadata": {},
   "source": [
    "**Zen of Python**\n",
    "1. Beautiful is better than ugly.\n",
    "2. Explicit is better than implicit.\n",
    "3. Simple is better than complex.\n",
    "4. Complex is better than complicated.\n",
    "5. Flat is better than nested.\n",
    "6. Sparse is better than dense.\n",
    "7. Readability counts.\n",
    "8. Special cases aren't special enough to break the rules.\n",
    "9. Although practicality beats purity.\n",
    "10. Errors should never pass silently.\n",
    "11. Unless explicitly silenced.\n",
    "12. In the face of ambiguity, refuse the temptation to guess.\n",
    "13. There should be one-- and preferably only one --obvious way to do it.\n",
    "14. Although that way may not be obvious at first unless you're Dutch.\n",
    "15. Now is better than never.\n",
    "16. Although never is often better than right now.\n",
    "17. If the implementation is hard to explain, it's a bad idea.\n",
    "18. If the implementation is easy to explain, it may be a good idea.\n",
    "19. Namespaces are one honking great idea -- let's do more of those!"
   ]
  },
  {
   "cell_type": "markdown",
   "metadata": {},
   "source": [
    "**Annotation in Python**\n",
    "* Annotations in Python provide a way to attach metadata to function arguments and return values. \n",
    "\n",
    "* They are primarily used for type hints, which can help with code readability, maintainability, and tooling support, such as static analysis and IDE autocompletion. \n",
    "\n",
    "* Annotations do not affect the runtime behavior of the code but serve as useful documentation."
   ]
  },
  {
   "cell_type": "markdown",
   "metadata": {},
   "source": [
    "Example"
   ]
  },
  {
   "cell_type": "code",
   "execution_count": 9,
   "metadata": {},
   "outputs": [],
   "source": [
    "def add(a: int, b: int) -> int:\n",
    "    return a + b"
   ]
  },
  {
   "cell_type": "markdown",
   "metadata": {},
   "source": [
    "Use the typing module for more complex type hints, such as optional and union types."
   ]
  },
  {
   "cell_type": "markdown",
   "metadata": {},
   "source": [
    "Example in function level"
   ]
  },
  {
   "cell_type": "code",
   "execution_count": null,
   "metadata": {},
   "outputs": [],
   "source": [
    "from typing import List\n",
    "\n",
    "def add(x: List[int]) -> int:\n",
    "    \"\"\"\n",
    "    Function to add elements of a list\n",
    "\n",
    "    Args:\n",
    "        x (List[int]): Input list of integers\n",
    "\n",
    "    Returns:\n",
    "        int: sum of all the elements of a list\n",
    "    \"\"\"\n",
    "    return sum(x)\n"
   ]
  },
  {
   "cell_type": "markdown",
   "metadata": {},
   "source": [
    "Example in class level"
   ]
  },
  {
   "cell_type": "code",
   "execution_count": null,
   "metadata": {},
   "outputs": [],
   "source": [
    "class Person:\n",
    "    \"\"\"\n",
    "        This is person class to store name and age\n",
    "    \"\"\"\n",
    "    def __init__(self, name: str, age: int) -> None:\n",
    "        \"\"\"\n",
    "        Initialize name and age\n",
    "\n",
    "        Args:\n",
    "            name (str): name of person\n",
    "            age (int): age of person\n",
    "        \"\"\"\n",
    "        self.name = name\n",
    "        self.age = age\n",
    "    \n",
    "    def get_name(self) -> str:\n",
    "        \"\"\"\n",
    "        This is getter for name\n",
    "\n",
    "        Returns:\n",
    "            str: Returns name\n",
    "        \"\"\"\n",
    "        return self.name\n",
    "    \n",
    "    def get_age(self) -> int:\n",
    "        \"\"\"\n",
    "        This is getter for age\n",
    "\n",
    "        Returns:\n",
    "            int: Returns age\n",
    "        \"\"\"\n",
    "        return self.age\n",
    "  "
   ]
  },
  {
   "cell_type": "markdown",
   "metadata": {},
   "source": [
    "**Pylint: A code quality tool for Python**\n",
    "\n",
    "* Pylint is a widely-used static code analysis tool in Python. \n",
    "\n",
    "* It helps ensure code quality by checking for errors, enforcing a coding standard, and suggesting improvements. \n",
    "\n",
    "* By integrating Pylint into your development workflow, you can maintain high-quality, readable, and maintainable code."
   ]
  },
  {
   "cell_type": "markdown",
   "metadata": {},
   "source": [
    "Installing pylint\n",
    "\n",
    "> pip install pylint\n"
   ]
  },
  {
   "cell_type": "markdown",
   "metadata": {},
   "source": [
    "Running pylint\n",
    "\n",
    "> pylint your_script.py"
   ]
  },
  {
   "cell_type": "markdown",
   "metadata": {},
   "source": [
    "Understanding Pylint Messages\n",
    "* Pylint categorizes its messages into different types, each with a unique code. \n",
    "\n",
    "* Here are some common categories:\n",
    "\n",
    "    * Convention (C): Issues related to coding style.\n",
    "    * Refactor (R): Suggestions for code refactoring.\n",
    "    * Warning (W): Potential issues in the code.\n",
    "    * Error (E): Likely errors in the code.\n",
    "    * Fatal (F): Errors that prevent Pylint from analyzing the code."
   ]
  },
  {
   "cell_type": "markdown",
   "metadata": {},
   "source": [
    "Customizing pylint\n",
    "\n",
    "* Pylint can be customized to better fit your project's needs. \n",
    "\n",
    "* This includes modifying its configuration to ignore certain warnings or adjusting the coding standards it enforces.\n",
    "\n",
    "* You can create a .pylintrc file to customize Pylint's behavior. This file can be generated using:\n",
    "\n",
    "> pylint --generate-rcfile > .pylintrc\n"
   ]
  },
  {
   "cell_type": "markdown",
   "metadata": {},
   "source": [
    "Common Customization\n",
    "\n",
    "* Disable Specific Messages: You can disable specific messages by adding their codes to the disable option in the .pylintrc file."
   ]
  },
  {
   "cell_type": "code",
   "execution_count": null,
   "metadata": {},
   "outputs": [],
   "source": [
    "# Inside [MESSAGES CONTROL] block in .pylintrc file\n",
    "# disable=C0114,C0115,C0116  # Disable missing module/function/class docstring warnings\n"
   ]
  }
 ],
 "metadata": {
  "kernelspec": {
   "display_name": "Python 3",
   "language": "python",
   "name": "python3"
  },
  "language_info": {
   "codemirror_mode": {
    "name": "ipython",
    "version": 3
   },
   "file_extension": ".py",
   "mimetype": "text/x-python",
   "name": "python",
   "nbconvert_exporter": "python",
   "pygments_lexer": "ipython3",
   "version": "3.8.10"
  }
 },
 "nbformat": 4,
 "nbformat_minor": 2
}
