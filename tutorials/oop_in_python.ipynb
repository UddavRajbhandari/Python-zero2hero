{
 "cells": [
  {
   "cell_type": "markdown",
   "metadata": {},
   "source": [
    "## Lesson 4: Object Oriented Programming in Python\n",
    "\n",
    "* Objectives:\n",
    "\n",
    "    1. Trace the details of instantiation and attribute resolution on class objects and instance objects.\n",
    "\n",
    "    2. Create classes with custom methods, including initializers and decorated properties.\n",
    "    \n",
    "    3. Analyze object-based design patterns, including polymorphism (through magic methods) and inheritance."
   ]
  },
  {
   "cell_type": "markdown",
   "metadata": {},
   "source": [
    "### Key Concepts\n",
    "\n",
    "* Class: A blueprint for creating objects (a particular data structure).\n",
    "\n",
    "* Object: An instance of a class.\n",
    "\n",
    "* Attributes: Variables that belong to an object or class. It represent **STATE/CONTEXT OF OBJECT**.\n",
    "\n",
    "* Methods: Functions that belong to an object or class.\n",
    "\n",
    "* Inheritance: Mechanism to create a new class using the properties and methods of an existing class.\n",
    "\n",
    "* Encapsulation: Bundling data and methods within a class.\n",
    "\n",
    "* Polymorphism: Ability to present the same interface for different data types.\n",
    "\n",
    "* Abstraction: Mechanism to hide the complex implementation details and showing only the essential features of the object.\n",
    "\n",
    "* Constructor__init__(): It is the special method which is called automatically when a new object is created. It is used for initializing the object's atribute. \n",
    "\n",
    "* Destructor__del__(): It is the special method which is called automatically when an object is about to be destroyed and can be used to clean up resources.\n",
    "\n",
    "* Garbage Collection: Python uses automatic garbage collection to manage memory. Objects are destroyed when they are no longer needed, and their destructor__del__() is called.\n",
    "\n"
   ]
  },
  {
   "cell_type": "markdown",
   "metadata": {},
   "source": [
    "### Creating our First Class\n",
    "\n",
    "* Syntax:\n",
    "\n",
    "        class ClassName:\n",
    "        \n",
    "            # class attributes section\n",
    "\n",
    "            # class methods section"
   ]
  },
  {
   "cell_type": "code",
   "execution_count": 2,
   "metadata": {},
   "outputs": [],
   "source": [
    "# Let's create our first class\n",
    "class Book:\n",
    "    # Object attributes are initialized inside the constructor __init__ method\n",
    "    def __init__(self, title, author, pages, price, discount):\n",
    "        self.title = title\n",
    "        self.author = author\n",
    "        self.pages = pages\n",
    "        self.price = price\n",
    "        self.discount = discount\n",
    "        self.selling_price = None\n",
    "        print(\"I am constructor and I have initialized all the attributes of the object\")\n",
    "        \n",
    "    # Class methods\n",
    "    def calculate_selling_price(self):\n",
    "        \n",
    "        sp = self.price * (1 - self.discount / 100)  # Here sp is local variable\n",
    "        \n",
    "        self.selling_price = sp  # Here selling_price is an object attribute"
   ]
  },
  {
   "cell_type": "markdown",
   "metadata": {},
   "source": [
    "### Instantiating the Class or Creating our First Object"
   ]
  },
  {
   "cell_type": "code",
   "execution_count": 3,
   "metadata": {},
   "outputs": [
    {
     "name": "stdout",
     "output_type": "stream",
     "text": [
      "I am constructor and I have initialized all the attributes of the object\n"
     ]
    }
   ],
   "source": [
    "# Let's create an object\n",
    "book1 = Book('Python', 'Guido van Rossum', 500, 100, 10)  # This will automatically call the __init__ method"
   ]
  },
  {
   "cell_type": "markdown",
   "metadata": {},
   "source": [
    "Accessing Object Attributes and Methods\n",
    "\n",
    "* We use dot (.) operator to access object attributes and class methods."
   ]
  },
  {
   "cell_type": "code",
   "execution_count": 4,
   "metadata": {},
   "outputs": [
    {
     "name": "stdout",
     "output_type": "stream",
     "text": [
      "Python\n",
      "Guido van Rossum\n",
      "500\n",
      "100\n",
      "10\n",
      "None\n"
     ]
    }
   ],
   "source": [
    "# Accessing object attributes/properties\n",
    "print(book1.title)\n",
    "print(book1.author)\n",
    "print(book1.pages)\n",
    "print(book1.price)\n",
    "print(book1.discount)\n",
    "print(book1.selling_price)"
   ]
  },
  {
   "cell_type": "code",
   "execution_count": 5,
   "metadata": {},
   "outputs": [
    {
     "name": "stdout",
     "output_type": "stream",
     "text": [
      "90.0\n"
     ]
    }
   ],
   "source": [
    "# Accessing class methods\n",
    "book1.calculate_selling_price()\n",
    "print(book1.selling_price)"
   ]
  },
  {
   "cell_type": "markdown",
   "metadata": {},
   "source": [
    "### What is self ??\n",
    "\n",
    "* It is a reference to the instance of the class.\n",
    "\n",
    "* It ensures that whenever we call the method, the method is operating on particular object attributes and methods."
   ]
  },
  {
   "cell_type": "code",
   "execution_count": 6,
   "metadata": {},
   "outputs": [
    {
     "name": "stdout",
     "output_type": "stream",
     "text": [
      "Object created:  <__main__.Book object at 0x7f44fe481850>\n",
      "Object created:  <__main__.Book object at 0x7f44fe481fd0>\n"
     ]
    }
   ],
   "source": [
    "class Book:\n",
    "    # Object attributes are initialized inside the constructor __init__ method\n",
    "    def __init__(self, title, author, pages, price, discount):\n",
    "        self.title = title\n",
    "        self.author = author\n",
    "        self.pages = pages\n",
    "        self.price = price\n",
    "        self.discount = discount\n",
    "        self.selling_price = None\n",
    "        print('Object created: ', self)\n",
    "        \n",
    "    # Class methods\n",
    "    def calculate_selling_price(self):\n",
    "        \n",
    "        sp = self.price * (1 - self.discount / 100)\n",
    "        \n",
    "        self.selling_price = sp\n",
    "        \n",
    "        \n",
    "# Instance creation\n",
    "book1 = Book('Python', 'Guido van Rossum', 500, 100, 10)\n",
    "book2 = Book('Java', 'James Gosling', 800, 150, 15)"
   ]
  },
  {
   "cell_type": "markdown",
   "metadata": {},
   "source": [
    "### Assignment 4.1\n",
    "\n",
    "1. Create a class Rectangle. Define the required object attributes/state yourself. Define class methods: area() and perimeter() and use them by creating an instance of rectangle.\n",
    "\n",
    "2. You are given an integer list height of length n. There are n vertical lines drawn such that the two endpoints of the ith line are (i, 0) and (i, height[i]).Find two lines that together with the x-axis form a container, such that the container contains the most water.Return the maximum amount of water a container can store. Notice that you may not slant the container.\n",
    "\n",
    "Example1:\n",
    "\n",
    "<div>\n",
    "<img src=\"../assets/water-container-problem.png\" width=\"500\"/>\n",
    "</div>\n",
    "\n",
    "    Input: height = [1,8,6,2,5,4,8,3,7]\n",
    "\n",
    "    Output: 49\n",
    "\n",
    "Explanation: The above vertical lines are represented by array [1,8,6,2,5,4,8,3,7]. In this case, the max area of water (blue section) the container can contain is 49.\n",
    "\n",
    "\n",
    "Example2:\n",
    "\n",
    "    Input: height = [1,1]\n",
    "\n",
    "    Output: 1\n",
    "\n",
    "\n"
   ]
  },
  {
   "cell_type": "markdown",
   "metadata": {},
   "source": [
    "### Commonly Used Decorators"
   ]
  },
  {
   "cell_type": "markdown",
   "metadata": {},
   "source": [
    "@classmethod\n",
    "* The @classmethod decorator is used to define a method that is bound to the class and not the instance of the class. \n",
    "\n",
    "* The first parameter of a class method is cls, which refers to the class itself.\n",
    "\n",
    "* The class method can only access the class attributes but not the instance attributes.\n",
    "\n",
    "* The class method can be called using ClassName.MethodName() and also using object.\n",
    "\n",
    "* It can return an object of the class."
   ]
  },
  {
   "cell_type": "code",
   "execution_count": 7,
   "metadata": {},
   "outputs": [],
   "source": [
    "class Book:\n",
    "    \n",
    "    # These are class attributes\n",
    "    book_title = \"Python Programming\"\n",
    "    \n",
    "    # Constructor\n",
    "    def __init__(self, title, author, pages, price, discount):\n",
    "        # These are instance attributes\n",
    "        self.title = title\n",
    "        self.author = author\n",
    "        self.pages = pages\n",
    "        self.price = price\n",
    "        self.discount = discount\n",
    "        self.selling_price = None\n",
    "        \n",
    "    # Class method to create an object\n",
    "    @classmethod\n",
    "    def create_from_string(cls, book_str):\n",
    "        print(\"Default book title: \", cls.book_title)\n",
    "        book_title, author, pages, price, discount = book_str.split(' ')\n",
    "        \n",
    "        # Creating an object and returning it\n",
    "        return cls(book_title, author, int(pages), int(price), int(discount))\n",
    "    \n",
    "    # Class methods\n",
    "    def calculate_selling_price(self):\n",
    "        sp = self.price * (1 - self.discount / 100)\n",
    "        self.selling_price = sp"
   ]
  },
  {
   "cell_type": "code",
   "execution_count": 8,
   "metadata": {},
   "outputs": [
    {
     "name": "stdout",
     "output_type": "stream",
     "text": [
      "Default book title:  Python Programming\n",
      "None\n",
      "Python\n",
      "Python Programming\n"
     ]
    }
   ],
   "source": [
    "book1 = Book.create_from_string('Python Programming 500 100 10')\n",
    "print(book1.selling_price)\n",
    "print(book1.title)\n",
    "print(book1.book_title)"
   ]
  },
  {
   "cell_type": "markdown",
   "metadata": {},
   "source": [
    "@staticmethod\n",
    "\n",
    "* The @staticmethod decorator is used to define a method that doesn't depend on class or instance variables. \n",
    "\n",
    "* Static methods are similar to regular functions but belong to the class's namespace."
   ]
  },
  {
   "cell_type": "code",
   "execution_count": 9,
   "metadata": {},
   "outputs": [],
   "source": [
    "class Book:\n",
    "    \n",
    "    # These are class attributes\n",
    "    book_title = \"Python Programming\"\n",
    "    \n",
    "    # Constructor\n",
    "    def __init__(self, title, author, pages, price, discount):\n",
    "        # These are instance attributes\n",
    "        self.title = title\n",
    "        self.author = author\n",
    "        self.pages = pages\n",
    "        self.price = price\n",
    "        self.discount = discount\n",
    "        self.selling_price = None\n",
    "        \n",
    "    # Class method to create an object\n",
    "    @classmethod\n",
    "    def create_from_string(cls, book_str):\n",
    "        print(\"Default book title: \", cls.book_title)\n",
    "        book_title, author, pages, price, discount = book_str.split(' ')\n",
    "        \n",
    "        # Creating an object and returning it\n",
    "        return cls(book_title, author, int(pages), int(price), int(discount))\n",
    "    \n",
    "    # Static method\n",
    "    @staticmethod\n",
    "    def get_default_title():\n",
    "        print(\"I am static method and I can access class attributes\")\n",
    "        return Book.book_title\n",
    "    \n",
    "    # Class methods\n",
    "    def calculate_selling_price(self):\n",
    "        sp = self.price * (1 - self.discount / 100)\n",
    "        self.selling_price = sp"
   ]
  },
  {
   "cell_type": "code",
   "execution_count": 10,
   "metadata": {},
   "outputs": [
    {
     "name": "stdout",
     "output_type": "stream",
     "text": [
      "I am static method and I can access class attributes\n",
      "Python Programming\n"
     ]
    }
   ],
   "source": [
    "book_default_title = Book.get_default_title()\n",
    "print(book_default_title)"
   ]
  },
  {
   "cell_type": "markdown",
   "metadata": {},
   "source": [
    "@property\n",
    "\n",
    "* The @property decorator is used to define a method as a property. \n",
    "\n",
    "* This allows you to define methods that can be accessed like attributes. \n",
    "\n",
    "* It is commonly used for getter methods.\n",
    "\n",
    "* By default all the variables in python are public. But python developers use variable naming convention to define the visibility of variable.\n",
    "\n",
    "    * Public: Public variables are accessible from anywhere, both inside and outside of the class. By default, all variables in a class are public. Eg: var1, func1()\n",
    "\n",
    "    * Protected: Protected variables are intended to be accessible only within the class and its subclasses. They are not strictly enforced by Python but are indicated by a single underscore prefix _. Eg: _var1, _func1()\n",
    "\n",
    "    * Private: Private variables are intended to be accessible only within the class they are defined. They are indicated by a double underscore prefix __. Eg: __var1, __func1()"
   ]
  },
  {
   "cell_type": "code",
   "execution_count": 11,
   "metadata": {},
   "outputs": [],
   "source": [
    "class Person:\n",
    "    \n",
    "    def __init__(self, name, age):\n",
    "        self._name = name\n",
    "        self._age = age\n",
    "    \n",
    "    # Getter\n",
    "    def get_name(self):\n",
    "        return self._name\n",
    "    \n",
    "    # Getter\n",
    "    def get_age(self):\n",
    "        return self._age\n",
    "    \n",
    "    # Setter\n",
    "    def set_name(self, name):\n",
    "        self._name = name\n",
    "    \n",
    "    # Setter\n",
    "    def set_age(self, age):\n",
    "        self._age = age"
   ]
  },
  {
   "cell_type": "code",
   "execution_count": 13,
   "metadata": {},
   "outputs": [
    {
     "name": "stdout",
     "output_type": "stream",
     "text": [
      "Ram\n",
      "20\n",
      "Shyam\n",
      "21\n"
     ]
    }
   ],
   "source": [
    "person1 = Person('Ram', 20)\n",
    "\n",
    "# Since name and age are protected attributes, we cannot access them directly by convention\n",
    "# So we have to use getter to get values\n",
    "print(person1.get_name())\n",
    "print(person1.get_age())\n",
    "\n",
    "# If we have to set new values, we have to use setter\n",
    "person1.set_name('Shyam')\n",
    "person1.set_age(21)\n",
    "\n",
    "print(person1.get_name())\n",
    "print(person1.get_age())"
   ]
  },
  {
   "cell_type": "markdown",
   "metadata": {},
   "source": [
    "We can use @property decorator for using getter and setter"
   ]
  },
  {
   "cell_type": "code",
   "execution_count": 16,
   "metadata": {},
   "outputs": [],
   "source": [
    "class Person:\n",
    "    \n",
    "    def __init__(self, name, age):\n",
    "        self._name = name\n",
    "        self._age = age\n",
    "    \n",
    "    @property\n",
    "    def name(self):\n",
    "        print(\"Getter for name is called\")\n",
    "        return self._name\n",
    "    \n",
    "    @property\n",
    "    def age(self):\n",
    "        print(\"Getter for age is called\")\n",
    "        return self._age\n",
    "    \n",
    "    @name.setter\n",
    "    def name(self, name):\n",
    "        print(\"Setter for name is called\")\n",
    "        self._name = name\n",
    "    \n",
    "    @age.setter\n",
    "    def age(self, age):\n",
    "        print(\"Setter for age is called\")\n",
    "        self._age = age"
   ]
  },
  {
   "cell_type": "code",
   "execution_count": 17,
   "metadata": {},
   "outputs": [
    {
     "name": "stdout",
     "output_type": "stream",
     "text": [
      "Getter for name is called\n",
      "Ram\n",
      "Getter for age is called\n",
      "20\n",
      "Setter for name is called\n",
      "Setter for age is called\n",
      "Getter for name is called\n",
      "Shyam\n",
      "Getter for age is called\n",
      "21\n"
     ]
    }
   ],
   "source": [
    "person1 = Person('Ram', 20)\n",
    "\n",
    "print(person1.name)\n",
    "print(person1.age)\n",
    "\n",
    "person1.name = 'Shyam'\n",
    "person1.age = 21\n",
    "\n",
    "print(person1.name)\n",
    "print(person1.age)"
   ]
  },
  {
   "cell_type": "markdown",
   "metadata": {},
   "source": [
    "### Inheritance in Python\n",
    "\n",
    "* Using inheritance, we will create new class from the existing class by inheriting properties of existing class.\n",
    "\n",
    "* The existing class is called parent class or super class whereas the new inherited class is called child class or sub class.\n",
    "\n",
    "* This promotes code reusability and a hierarchical class structure.\n",
    "\n",
    "* This extends the functionality of existing classes.\n",
    "\n",
    "* super() function allows you to call methods from the superclass in your subclass."
   ]
  },
  {
   "cell_type": "code",
   "execution_count": 18,
   "metadata": {},
   "outputs": [],
   "source": [
    "# Syntax\n",
    "class ParentClass:\n",
    "    pass\n",
    "\n",
    "class ChildClass(ParentClass):\n",
    "    pass"
   ]
  },
  {
   "cell_type": "markdown",
   "metadata": {},
   "source": [
    "### Types of Inheritance\n",
    "\n",
    "* Single Inheritance\n",
    "    * A subclass inherits from one superclass.\n",
    "\n",
    "* Multiple Inheritance: \n",
    "\n",
    "    * A subclass inherits from more than one superclass.\n",
    "\n",
    "* Multilevel Inheritance: \n",
    "\n",
    "    * A class is derived from a class which is also derived from another class.\n",
    "\n",
    "* Hierarchical Inheritance: \n",
    "\n",
    "    * Multiple subclasses inherit from a single superclass."
   ]
  },
  {
   "cell_type": "code",
   "execution_count": 21,
   "metadata": {},
   "outputs": [
    {
     "name": "stdout",
     "output_type": "stream",
     "text": [
      "Vehicle is used for transportation\n",
      "BMW is used for transportation\n",
      "200\n"
     ]
    }
   ],
   "source": [
    "# Single Inheritance\n",
    "class Vehicle:\n",
    "    def __init__(self, name, color):\n",
    "        self.name = name\n",
    "        self.color = color\n",
    "        \n",
    "    def usage(self):\n",
    "        print(f\"Vehicle is used for transportation\")\n",
    "        \n",
    "class Car(Vehicle):\n",
    "    \n",
    "    def __init__(self, name, color, top_speed):\n",
    "        # Calling parent class constructor\n",
    "        super().__init__(name, color)\n",
    "        self.top_speed = top_speed\n",
    "    \n",
    "    # Method overriding\n",
    "    # This subclass method usage() will override the parent class method usage()\n",
    "    # So if we have to call parent class method, we have to use super()\n",
    "    def usage(self):\n",
    "        # Calling parent class method\n",
    "        super().usage()        \n",
    "        print(f\"{self.name} is used for transportation\")\n",
    "        \n",
    "\n",
    "car1 = Car('BMW', 'Black', 200)\n",
    "car1.usage()\n",
    "print(car1.top_speed)\n"
   ]
  },
  {
   "cell_type": "markdown",
   "metadata": {},
   "source": [
    "### Polymorphism in Python\n",
    "\n",
    "*  Polymorphisms refer to the occurrence of something in multiple forms. \n",
    "\n",
    "* Examples: \n",
    "\n",
    "    * Operator overloading\n",
    "\n",
    "    * Method Overriding\n",
    "\n",
    "* Method overriding is not allowed in python.\n"
   ]
  },
  {
   "cell_type": "code",
   "execution_count": 22,
   "metadata": {},
   "outputs": [],
   "source": [
    "# Example of polymorphism\n",
    "\n",
    "# Addition (+) operation has multiple uses and it is called operator overloading\n",
    "\n",
    "sum = 10 + 20 # + is used to add numbers\n",
    "str_cat = \"Hello\" + \" \" + \"World\" # + is used to concatenate strings\n",
    "list_cat = [1, 2, 3] + [4, 5, 6] # + is used to concatenate lists"
   ]
  },
  {
   "cell_type": "markdown",
   "metadata": {},
   "source": [
    "Polymorphism: Method Overriding\n",
    "\n",
    "* In inheritance, we can redefine certain methods and attributes specifically to fit the child class, which is known as Method Overriding."
   ]
  },
  {
   "cell_type": "code",
   "execution_count": 28,
   "metadata": {},
   "outputs": [],
   "source": [
    "import math\n",
    "\n",
    "class Shape:\n",
    "    def __init__(self, name):\n",
    "        self.name = name\n",
    "\n",
    "    def area(self):\n",
    "        pass\n",
    "\n",
    "    def fact(self):\n",
    "        return \"I am a two-dimensional shape. I have length and breadth.\"\n",
    "\n",
    "class Square(Shape):\n",
    "    def __init__(self, length):\n",
    "        super().__init__(\"Square\")\n",
    "        self.length = length\n",
    "\n",
    "    def area(self):\n",
    "        return self.length**2\n",
    "\n",
    "class Circle(Shape):\n",
    "    def __init__(self, radius):\n",
    "        super().__init__(\"Circle\")\n",
    "        self.radius = radius\n",
    "\n",
    "    def area(self):\n",
    "        return math.pi*self.radius**2\n",
    "    \n",
    "    def fact(self):\n",
    "        return \"I am circle. I have radius.\""
   ]
  },
  {
   "cell_type": "code",
   "execution_count": 30,
   "metadata": {},
   "outputs": [
    {
     "name": "stdout",
     "output_type": "stream",
     "text": [
      "I am a two-dimensional shape. I have length and breadth.\n",
      "25\n"
     ]
    }
   ],
   "source": [
    "sqr = Square(5)\n",
    "print(sqr.fact())\n",
    "print(sqr.area())"
   ]
  },
  {
   "cell_type": "code",
   "execution_count": 31,
   "metadata": {},
   "outputs": [
    {
     "name": "stdout",
     "output_type": "stream",
     "text": [
      "I am circle. I have radius.\n",
      "78.53981633974483\n"
     ]
    }
   ],
   "source": [
    "circle = Circle(5)\n",
    "print(circle.fact())\n",
    "print(circle.area())"
   ]
  },
  {
   "cell_type": "code",
   "execution_count": null,
   "metadata": {},
   "outputs": [],
   "source": []
  }
 ],
 "metadata": {
  "kernelspec": {
   "display_name": "Python 3",
   "language": "python",
   "name": "python3"
  },
  "language_info": {
   "codemirror_mode": {
    "name": "ipython",
    "version": 3
   },
   "file_extension": ".py",
   "mimetype": "text/x-python",
   "name": "python",
   "nbconvert_exporter": "python",
   "pygments_lexer": "ipython3",
   "version": "3.8.10"
  }
 },
 "nbformat": 4,
 "nbformat_minor": 2
}
