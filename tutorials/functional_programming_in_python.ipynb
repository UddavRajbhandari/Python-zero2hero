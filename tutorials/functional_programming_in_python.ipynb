{
 "cells": [
  {
   "cell_type": "markdown",
   "metadata": {},
   "source": [
    "## Lesson 3: Functional Programming in Python\n",
    "\n",
    "* Objectives:\n",
    "\n",
    "    1. Create simple function interfaces using advanced arguments types, including keyword arguments and variadic arguments.\n",
    "\n",
    "    2. Create functional programs, using map/filter, reduce, lambdas, iterators, and generators.\n",
    "    \n",
    "    3. Create decorators, high-level tools to transform functional behavior."
   ]
  },
  {
   "cell_type": "markdown",
   "metadata": {},
   "source": [
    "### Functions in Python\n",
    "\n",
    "* Functions in Python are reusable blocks of code designed to perform a specific task.\n",
    "\n",
    "* They help in organizing code, reducing redundancy, and improving readability.\n",
    "\n",
    "* Return:\n",
    "\n",
    "    * Functions can return a value using the return statement.\n",
    "    \n",
    "    * A function without a return statement returns None by default."
   ]
  },
  {
   "cell_type": "code",
   "execution_count": 3,
   "metadata": {},
   "outputs": [],
   "source": [
    "# Syntax\n",
    "def function_name(parameters):\n",
    "    \"\"\"Docstring\"\"\"\n",
    "    # code\n",
    "    return value"
   ]
  },
  {
   "cell_type": "code",
   "execution_count": 5,
   "metadata": {},
   "outputs": [
    {
     "name": "stdout",
     "output_type": "stream",
     "text": [
      "30\n"
     ]
    }
   ],
   "source": [
    "# Example function to add two numbers\n",
    "\n",
    "# Function definition\n",
    "def add_two_numbers(x, y):\n",
    "    \"\"\"This function adds two numbers.\n",
    "    \n",
    "    Arguments:\n",
    "        x: The first number.\n",
    "        y: The second number.\n",
    "        \n",
    "    Returns:\n",
    "        The sum of the two numbers.\n",
    "    \n",
    "    \"\"\"\n",
    "    return x + y\n",
    "\n",
    "# Function call\n",
    "sum = add_two_numbers(10, 20)\n",
    "print(sum)"
   ]
  },
  {
   "cell_type": "markdown",
   "metadata": {},
   "source": [
    "Positional Arguments\n",
    "* Arguments passed to the function in the correct positional order."
   ]
  },
  {
   "cell_type": "code",
   "execution_count": 10,
   "metadata": {},
   "outputs": [
    {
     "name": "stdout",
     "output_type": "stream",
     "text": [
      "30\n"
     ]
    }
   ],
   "source": [
    "# Function definition\n",
    "def add_two_numbers(x, y):\n",
    "    return x + y\n",
    "\n",
    "# Function call with positional arguments\n",
    "sum = add_two_numbers(10, 20) # first argument is 10 i.e. x and second argument is 20 i.e. y\n",
    "print(sum)"
   ]
  },
  {
   "cell_type": "markdown",
   "metadata": {},
   "source": [
    "Keyword Arguments\n",
    "* Arguments passed to the function with their parameter names."
   ]
  },
  {
   "cell_type": "code",
   "execution_count": 11,
   "metadata": {},
   "outputs": [
    {
     "name": "stdout",
     "output_type": "stream",
     "text": [
      "30\n"
     ]
    }
   ],
   "source": [
    "# Function definition\n",
    "def add_two_numbers(x, y):\n",
    "    return x + y\n",
    "\n",
    "# Function call with keyword arguments\n",
    "sum = add_two_numbers(x=10, y=20)\n",
    "print(sum)"
   ]
  },
  {
   "cell_type": "markdown",
   "metadata": {},
   "source": [
    "Default Arguments\n",
    "* Parameters with default values if no argument is provided."
   ]
  },
  {
   "cell_type": "code",
   "execution_count": 13,
   "metadata": {},
   "outputs": [
    {
     "name": "stdout",
     "output_type": "stream",
     "text": [
      "30\n"
     ]
    }
   ],
   "source": [
    "# Function definition\n",
    "\n",
    "# IMP: Parameters with default values should be at the end\n",
    "def add_two_numbers(x, y=10):\n",
    "    return x + y\n",
    "\n",
    "# Function call with keyword arguments\n",
    "sum = add_two_numbers(20)\n",
    "print(sum)"
   ]
  },
  {
   "cell_type": "markdown",
   "metadata": {},
   "source": [
    "### Arbitary Arguments\n",
    "\n",
    "* Using *args and **kwargs to accept a variable number of arguments.\n",
    "\n",
    "* Before learning about *args and *kwargs, we must have good understanding of Unpacking conceps in python.\n"
   ]
  },
  {
   "cell_type": "markdown",
   "metadata": {},
   "source": [
    "Unpacking in Python\n",
    "\n",
    "* Unpacking in Python is a powerful feature that allows you to assign values from a collection (such as a list, tuple, dictionary, etc.) to multiple variables in a single statement. \n",
    "\n",
    "* This feature can simplify your code and make it more readable."
   ]
  },
  {
   "cell_type": "code",
   "execution_count": 14,
   "metadata": {},
   "outputs": [
    {
     "name": "stdout",
     "output_type": "stream",
     "text": [
      "3\n",
      "4\n"
     ]
    }
   ],
   "source": [
    "# Unpacking a tuple\n",
    "point = (3, 4)\n",
    "x, y = point\n",
    "print(x)  \n",
    "print(y)  "
   ]
  },
  {
   "cell_type": "code",
   "execution_count": 15,
   "metadata": {},
   "outputs": [
    {
     "name": "stdout",
     "output_type": "stream",
     "text": [
      "red\n",
      "green\n",
      "blue\n"
     ]
    }
   ],
   "source": [
    "# Unpacking a list\n",
    "colors = [\"red\", \"green\", \"blue\"]\n",
    "r, g, b = colors\n",
    "print(r)  # Output: red\n",
    "print(g)  # Output: green\n",
    "print(b)  # Output: blue"
   ]
  },
  {
   "cell_type": "markdown",
   "metadata": {},
   "source": [
    "Using the * Operator for Extended Unpacking\n",
    "\n",
    "* The * operator allows you to capture multiple items during unpacking."
   ]
  },
  {
   "cell_type": "code",
   "execution_count": 18,
   "metadata": {},
   "outputs": [
    {
     "name": "stdout",
     "output_type": "stream",
     "text": [
      "1\n",
      "2\n",
      "[3, 4, 5]\n"
     ]
    }
   ],
   "source": [
    "# Extended unpacking\n",
    "numbers = [1, 2, 3, 4, 5]\n",
    "first, second, *rest = numbers\n",
    "print(first)  \n",
    "print(second)  \n",
    "print(rest)   "
   ]
  },
  {
   "cell_type": "code",
   "execution_count": 19,
   "metadata": {},
   "outputs": [
    {
     "name": "stdout",
     "output_type": "stream",
     "text": [
      "1\n",
      "[2, 3, 4]\n",
      "5\n"
     ]
    }
   ],
   "source": [
    "# Using * in the middle\n",
    "numbers = [1, 2, 3, 4, 5]\n",
    "first, *middle, last = numbers\n",
    "print(first)  \n",
    "print(middle)  \n",
    "print(last)    "
   ]
  },
  {
   "cell_type": "code",
   "execution_count": null,
   "metadata": {},
   "outputs": [],
   "source": [
    "# *args in python\n",
    "\n",
    "# Function definition   \n",
    "def add_numbers(*args):\n",
    "    sum = 0\n",
    "    for num in args:\n",
    "        sum = sum + num\n",
    "    return sum\n"
   ]
  },
  {
   "cell_type": "markdown",
   "metadata": {},
   "source": [
    "### Assignment 3.1\n",
    "\n",
    "1. You are given a large integer represented as an integer list of digits, where each digits[i] is the ith digit of the integer. The digits are ordered from most significant to least significant in left-to-right order. The large integer does not contain any leading 0's. Increment the large integer by one and return the resulting array of digits.\n",
    "\n",
    "        Example 1:\n",
    "        Input: digits = [1,2,3]\n",
    "        Output: [1,2,4]\n",
    "        Explanation: The array represents the integer 123.\n",
    "        Incrementing by one gives 123 + 1 = 124.\n",
    "        Thus, the result should be [1,2,4].\n",
    "\n",
    "        Example 2:\n",
    "        Input: digits = [4,3,2,1]\n",
    "        Output: [4,3,2,2]\n",
    "        Explanation: The array represents the integer 4321.\n",
    "        Incrementing by one gives 4321 + 1 = 4322.\n",
    "        Thus, the result should be [4,3,2,2].\n",
    "\n",
    "        Example 3:\n",
    "        Input: digits = [9]\n",
    "        Output: [1,0]\n",
    "        Explanation: The array represents the integer 9.\n",
    "        Incrementing by one gives 9 + 1 = 10.\n",
    "        Thus, the result should be [1,0]."
   ]
  },
  {
   "cell_type": "markdown",
   "metadata": {},
   "source": []
  }
 ],
 "metadata": {
  "kernelspec": {
   "display_name": "Python 3",
   "language": "python",
   "name": "python3"
  },
  "language_info": {
   "codemirror_mode": {
    "name": "ipython",
    "version": 3
   },
   "file_extension": ".py",
   "mimetype": "text/x-python",
   "name": "python",
   "nbconvert_exporter": "python",
   "pygments_lexer": "ipython3",
   "version": "3.8.10"
  }
 },
 "nbformat": 4,
 "nbformat_minor": 2
}
