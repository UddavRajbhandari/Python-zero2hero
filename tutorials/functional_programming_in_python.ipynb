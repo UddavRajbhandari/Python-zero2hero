{
 "cells": [
  {
   "cell_type": "markdown",
   "metadata": {},
   "source": [
    "## Lesson 3: Functional Programming in Python\n",
    "\n",
    "* Objectives:\n",
    "\n",
    "    1. Create simple function interfaces using advanced arguments types, including keyword arguments and variadic arguments.\n",
    "\n",
    "    2. Create functional programs, using map/filter, reduce, lambdas, iterators, and generators.\n",
    "    \n",
    "    3. Create decorators, high-level tools to transform functional behavior."
   ]
  },
  {
   "cell_type": "markdown",
   "metadata": {},
   "source": [
    "### Functions in Python\n",
    "\n",
    "* Functions in Python are reusable blocks of code designed to perform a specific task.\n",
    "\n",
    "* They help in organizing code, reducing redundancy, and improving readability.\n",
    "\n",
    "* Return:\n",
    "\n",
    "    * Functions can return a value using the return statement.\n",
    "    \n",
    "    * A function without a return statement returns None by default."
   ]
  },
  {
   "cell_type": "code",
   "execution_count": 28,
   "metadata": {},
   "outputs": [],
   "source": [
    "# Syntax\n",
    "\n",
    "# Function definition\n",
    "def function_name(parameters):\n",
    "    \"\"\"Docstring\"\"\"\n",
    "    # body of the function\n",
    "    \n",
    "    # return value\n",
    "    \n",
    "# Function call\n",
    "# function_name(parameters)"
   ]
  },
  {
   "cell_type": "code",
   "execution_count": 5,
   "metadata": {},
   "outputs": [
    {
     "name": "stdout",
     "output_type": "stream",
     "text": [
      "30\n"
     ]
    }
   ],
   "source": [
    "# Example function to add two numbers\n",
    "\n",
    "# Function definition\n",
    "def add_two_numbers(x, y):\n",
    "    \"\"\"This function adds two numbers.\n",
    "    \n",
    "    Arguments:\n",
    "        x: The first number.\n",
    "        y: The second number.\n",
    "        \n",
    "    Returns:\n",
    "        The sum of the two numbers.\n",
    "    \n",
    "    \"\"\"\n",
    "    return x + y\n",
    "\n",
    "# Function call\n",
    "sum = add_two_numbers(10, 20)\n",
    "print(sum)"
   ]
  },
  {
   "cell_type": "markdown",
   "metadata": {},
   "source": [
    "Positional Arguments\n",
    "* Arguments passed to the function in the correct positional order."
   ]
  },
  {
   "cell_type": "code",
   "execution_count": 10,
   "metadata": {},
   "outputs": [
    {
     "name": "stdout",
     "output_type": "stream",
     "text": [
      "30\n"
     ]
    }
   ],
   "source": [
    "# Function definition\n",
    "def add_two_numbers(x, y):\n",
    "    return x + y\n",
    "\n",
    "# Function call with positional arguments\n",
    "sum = add_two_numbers(10, 20) # first argument is 10 i.e. x and second argument is 20 i.e. y\n",
    "print(sum)"
   ]
  },
  {
   "cell_type": "markdown",
   "metadata": {},
   "source": [
    "Keyword Arguments\n",
    "* Arguments passed to the function with their parameter names."
   ]
  },
  {
   "cell_type": "code",
   "execution_count": 11,
   "metadata": {},
   "outputs": [
    {
     "name": "stdout",
     "output_type": "stream",
     "text": [
      "30\n"
     ]
    }
   ],
   "source": [
    "# Function definition\n",
    "def add_two_numbers(x, y):\n",
    "    return x + y\n",
    "\n",
    "# Function call with keyword arguments\n",
    "sum = add_two_numbers(x=10, y=20)\n",
    "print(sum)"
   ]
  },
  {
   "cell_type": "markdown",
   "metadata": {},
   "source": [
    "Default Arguments\n",
    "* Parameters with default values if no argument is provided."
   ]
  },
  {
   "cell_type": "code",
   "execution_count": 13,
   "metadata": {},
   "outputs": [
    {
     "name": "stdout",
     "output_type": "stream",
     "text": [
      "30\n"
     ]
    }
   ],
   "source": [
    "# Function definition\n",
    "\n",
    "# IMP: Parameters with default values should be at the end\n",
    "def add_two_numbers(x, y=10):\n",
    "    return x + y\n",
    "\n",
    "# Function call with keyword arguments\n",
    "sum = add_two_numbers(20)\n",
    "print(sum)"
   ]
  },
  {
   "cell_type": "markdown",
   "metadata": {},
   "source": [
    "### Arbitary Arguments\n",
    "\n",
    "* Using *args and **kwargs to accept a variable number of arguments.\n",
    "\n",
    "* Before learning about *args and *kwargs, we must have good understanding of Unpacking conceps in python.\n"
   ]
  },
  {
   "cell_type": "markdown",
   "metadata": {},
   "source": [
    "Unpacking in Python\n",
    "\n",
    "* Unpacking in Python is a powerful feature that allows you to assign values from a collection (such as a list, tuple, dictionary, etc.) to multiple variables in a single statement. \n",
    "\n",
    "* This feature can simplify your code and make it more readable."
   ]
  },
  {
   "cell_type": "code",
   "execution_count": 14,
   "metadata": {},
   "outputs": [
    {
     "name": "stdout",
     "output_type": "stream",
     "text": [
      "3\n",
      "4\n"
     ]
    }
   ],
   "source": [
    "# Unpacking a tuple\n",
    "point = (3, 4)\n",
    "x, y = point\n",
    "print(x)  \n",
    "print(y)  "
   ]
  },
  {
   "cell_type": "code",
   "execution_count": 15,
   "metadata": {},
   "outputs": [
    {
     "name": "stdout",
     "output_type": "stream",
     "text": [
      "red\n",
      "green\n",
      "blue\n"
     ]
    }
   ],
   "source": [
    "# Unpacking a list\n",
    "colors = [\"red\", \"green\", \"blue\"]\n",
    "r, g, b = colors\n",
    "print(r)  # Output: red\n",
    "print(g)  # Output: green\n",
    "print(b)  # Output: blue"
   ]
  },
  {
   "cell_type": "markdown",
   "metadata": {},
   "source": [
    "Using the * Operator for Extended Unpacking\n",
    "\n",
    "* The * operator allows you to capture multiple items during unpacking."
   ]
  },
  {
   "cell_type": "code",
   "execution_count": 18,
   "metadata": {},
   "outputs": [
    {
     "name": "stdout",
     "output_type": "stream",
     "text": [
      "1\n",
      "2\n",
      "[3, 4, 5]\n"
     ]
    }
   ],
   "source": [
    "# Extended unpacking\n",
    "numbers = [1, 2, 3, 4, 5]\n",
    "first, second, *rest = numbers\n",
    "print(first)  \n",
    "print(second)  \n",
    "print(rest)   "
   ]
  },
  {
   "cell_type": "code",
   "execution_count": 19,
   "metadata": {},
   "outputs": [
    {
     "name": "stdout",
     "output_type": "stream",
     "text": [
      "1\n",
      "[2, 3, 4]\n",
      "5\n"
     ]
    }
   ],
   "source": [
    "# Using * in the middle\n",
    "numbers = [1, 2, 3, 4, 5]\n",
    "first, *middle, last = numbers\n",
    "print(first)  \n",
    "print(middle)  \n",
    "print(last)    "
   ]
  },
  {
   "cell_type": "markdown",
   "metadata": {},
   "source": [
    "'*args' and '**kwargs' in Python\n",
    "\n",
    "* args and **kwargs are used to pass a variable number of arguments to a function. So often called as variadic arguments and variadic functions.\n",
    "\n",
    "* This allows for greater flexibility and enables functions to handle a varying number of input arguments.\n",
    "\n",
    "* Usage: When you are unsure of how many arguments might be passed to a function.\n",
    "\n",
    "* *args allows a function to accept any number of positional arguments.\n",
    "\n",
    "* **kwargs allows a function to accept any number of keyword arguments.\n",
    "\n",
    "* When defining a function that uses *args and **kwargs, the order of parameters should be:\n",
    "\n",
    "        1. Regular positional arguments\n",
    "        2. *args\n",
    "        3. **kwargs"
   ]
  },
  {
   "cell_type": "code",
   "execution_count": 12,
   "metadata": {},
   "outputs": [
    {
     "name": "stdout",
     "output_type": "stream",
     "text": [
      "args: (10, 20, 30, 40, 50)\n",
      "We can notice that args is a list\n",
      "sum, 150\n",
      "args: (10, 20)\n",
      "We can notice that args is a list\n",
      "sum, 30\n",
      "args: ()\n",
      "We can notice that args is a list\n",
      "sum, 0\n"
     ]
    }
   ],
   "source": [
    "# *args in python\n",
    "\n",
    "# Function definition   \n",
    "def add_numbers(*args):\n",
    "    sum = 0\n",
    "    print(\"args:\", args)\n",
    "    print(\"We can notice that args is a tuple\")\n",
    "    \n",
    "    for num in args:\n",
    "        sum = sum + num\n",
    "    return sum\n",
    "\n",
    "# Function call\n",
    "# Here we can pass any number of positional arguments\n",
    "sum = add_numbers(10, 20, 30, 40, 50)\n",
    "print(\"sum: \", sum)  \n",
    "sum = add_numbers(10, 20)\n",
    "print(\"sum: \", sum)  \n",
    "sum = add_numbers()\n",
    "print(\"sum: \", sum)  \n",
    " "
   ]
  },
  {
   "cell_type": "code",
   "execution_count": 19,
   "metadata": {},
   "outputs": [
    {
     "name": "stdout",
     "output_type": "stream",
     "text": [
      "kwargs: {'math': 70, 'english': 80, 'science': 90}\n",
      "We can notice that kwargs is a dictionary\n",
      "3\n",
      "Percentage:  80.0\n",
      "kwargs: {'math': 70, 'english': 80}\n",
      "We can notice that kwargs is a dictionary\n",
      "2\n",
      "Percentage:  75.0\n"
     ]
    }
   ],
   "source": [
    "# **kwargs in python\n",
    "\n",
    "def calculate_percentage(**kwargs):\n",
    "    sum = 0\n",
    "    print(\"kwargs:\", kwargs)\n",
    "    print(\"We can notice that kwargs is a dictionary\")\n",
    "    print(len(kwargs))\n",
    "    for key, value in kwargs.items():\n",
    "        sum = sum + value\n",
    "    return sum / len(kwargs) \n",
    "\n",
    "# Here we can pass any number of keyword arguments\n",
    "percentage = calculate_percentage(math=70, english=80, science=90)\n",
    "print(\"Percentage: \", percentage)\n",
    "\n",
    "percentage = calculate_percentage(math=70, english=80)\n",
    "print(\"Percentage: \", percentage)"
   ]
  },
  {
   "cell_type": "code",
   "execution_count": 26,
   "metadata": {},
   "outputs": [
    {
     "name": "stdout",
     "output_type": "stream",
     "text": [
      "Attributes:\n",
      "- Tall\n",
      "- Blue eyes\n",
      "\n",
      "Details:\n",
      "name: Rob\n",
      "age: 30\n",
      "job: Engineer\n"
     ]
    }
   ],
   "source": [
    "# Combining both *args and **kwargs\n",
    "\n",
    "# Function definition with *args and **kwargs\n",
    "def describe_person(*args, **kwargs):\n",
    "    print(\"Attributes:\")\n",
    "    for arg in args:\n",
    "        print(f\"- {arg}\")\n",
    "    print(\"\\nDetails:\")\n",
    "    for key, value in kwargs.items():\n",
    "        print(f\"{key}: {value}\")\n",
    "\n",
    "# Function call with *args and **kwargs\n",
    "describe_person(\"Tall\", \"Blue eyes\", name=\"Rob\", age=30, job=\"Engineer\")"
   ]
  },
  {
   "cell_type": "code",
   "execution_count": 27,
   "metadata": {},
   "outputs": [
    {
     "name": "stdout",
     "output_type": "stream",
     "text": [
      "Name: Rob\n",
      "Age: 30\n",
      "Attributes:\n",
      "- Tall\n",
      "- Blue eyes\n",
      "\n",
      "Details:\n",
      "job: Engineer\n"
     ]
    }
   ],
   "source": [
    "# Combining positional arguments, *args, and keyword arguments, **kwargs\n",
    "\n",
    "# Function definition with positional arguments, *args and **kwargs\n",
    "def describe_person(name, age, *args, **kwargs):\n",
    "    print(\"Name:\", name)\n",
    "    print(\"Age:\", age)\n",
    "    print(\"Attributes:\")\n",
    "    for arg in args:\n",
    "        print(f\"- {arg}\")\n",
    "    print(\"\\nDetails:\")\n",
    "    for key, value in kwargs.items():\n",
    "        print(f\"{key}: {value}\")\n",
    "        \n",
    "# Function call with positional arguments, *args, and keyword arguments, **kwargs\n",
    "describe_person(\"Rob\", 30, \"Tall\", \"Blue eyes\", job=\"Engineer\")"
   ]
  },
  {
   "cell_type": "markdown",
   "metadata": {},
   "source": [
    "### Assignment 3.1\n",
    "\n",
    "1. You are given a large integer represented as an integer list of digits, where each digits[i] is the ith digit of the integer. The digits are ordered from most significant to least significant in left-to-right order. The large integer does not contain any leading 0's. Increment the large integer by one and return the resulting ;list of digits. Implement the logic by creating a function.\n",
    "\n",
    "        Example 1:\n",
    "        Input: digits = [1,2,3]\n",
    "        Output: [1,2,4]\n",
    "        Explanation: The array represents the integer 123.\n",
    "        Incrementing by one gives 123 + 1 = 124.\n",
    "        Thus, the result should be [1,2,4].\n",
    "\n",
    "        Example 2:\n",
    "        Input: digits = [4,3,2,1]\n",
    "        Output: [4,3,2,2]\n",
    "        Explanation: The array represents the integer 4321.\n",
    "        Incrementing by one gives 4321 + 1 = 4322.\n",
    "        Thus, the result should be [4,3,2,2].\n",
    "\n",
    "        Example 3:\n",
    "        Input: digits = [9]\n",
    "        Output: [1,0]\n",
    "        Explanation: The array represents the integer 9.\n",
    "        Incrementing by one gives 9 + 1 = 10.\n",
    "        Thus, the result should be [1,0]."
   ]
  },
  {
   "cell_type": "markdown",
   "metadata": {},
   "source": [
    "### Iterable and Iterators in Python\n",
    "\n",
    "* Understanding iterators and iterables is fundamental to mastering Python's capabilities for looping and data manipulation.\n",
    "\n",
    "* These concepts are central to Python's for-loops and other collection-processing mechanisms."
   ]
  },
  {
   "cell_type": "markdown",
   "metadata": {},
   "source": [
    "### Iterable\n",
    "\n",
    "* An iterable is any Python object capable of returning its members one at a time, allowing it to be iterated over in a loop.\n",
    "\n",
    "* Examples: Lists, tuples, strings, dictionaries, and sets \n",
    "\n",
    "* An object is considered an iterable if it implements the __iter__() method, which returns an iterator."
   ]
  },
  {
   "cell_type": "code",
   "execution_count": 48,
   "metadata": {},
   "outputs": [],
   "source": [
    "# List is an iterable\n",
    "my_list = [1, 2, 3, 4, 5]\n",
    "\n",
    "# String is an iterable\n",
    "my_string = \"hello\"\n"
   ]
  },
  {
   "cell_type": "markdown",
   "metadata": {},
   "source": [
    "### Iterator\n",
    "\n",
    "* An iterator is an object representing a stream of data. \n",
    "\n",
    "* It returns one element at a time when you call the next() function on it.\n",
    "\n",
    "* Examples: Objects that implement both the __iter__() and __next__() methods are iterators.\n",
    "\n",
    "* An iterator keeps state and remembers where it is during iteration. When __next__() is called, the iterator returns the next item in the sequence.\n",
    "\n",
    "* If there are no further elements, then the method __next__() will raise an exception to StopIteration.\n",
    "\n",
    "* Every iterator is basically iterable but reverse may not be true."
   ]
  },
  {
   "cell_type": "code",
   "execution_count": 6,
   "metadata": {},
   "outputs": [
    {
     "name": "stdout",
     "output_type": "stream",
     "text": [
      "1\n",
      "2\n",
      "3\n",
      "4\n",
      "5\n"
     ]
    },
    {
     "ename": "StopIteration",
     "evalue": "",
     "output_type": "error",
     "traceback": [
      "\u001b[0;31m---------------------------------------------------------------------------\u001b[0m",
      "\u001b[0;31mStopIteration\u001b[0m                             Traceback (most recent call last)",
      "Cell \u001b[0;32mIn[6], line 11\u001b[0m\n\u001b[1;32m      9\u001b[0m \u001b[38;5;28mprint\u001b[39m(\u001b[38;5;28mnext\u001b[39m(iterator)) \n\u001b[1;32m     10\u001b[0m \u001b[38;5;28mprint\u001b[39m(\u001b[38;5;28mnext\u001b[39m(iterator)) \n\u001b[0;32m---> 11\u001b[0m \u001b[38;5;28mprint\u001b[39m(\u001b[38;5;28;43mnext\u001b[39;49m\u001b[43m(\u001b[49m\u001b[43miterator\u001b[49m\u001b[43m)\u001b[49m)  \u001b[38;5;66;03m# This will raise StopIteration error\u001b[39;00m\n",
      "\u001b[0;31mStopIteration\u001b[0m: "
     ]
    }
   ],
   "source": [
    "# Creating an iterator from an iterable\n",
    "my_list = [1, 2, 3, 4, 5]\n",
    "iterator = iter(my_list)   # iter() method is used to create an iterator from an iterable\n",
    "\n",
    "# Using next() to get items\n",
    "print(next(iterator)) \n",
    "print(next(iterator))  \n",
    "print(next(iterator)) \n",
    "print(next(iterator)) \n",
    "print(next(iterator)) \n",
    "print(next(iterator))  # This will raise StopIteration error"
   ]
  },
  {
   "cell_type": "code",
   "execution_count": 7,
   "metadata": {},
   "outputs": [
    {
     "name": "stdout",
     "output_type": "stream",
     "text": [
      "1\n",
      "2\n",
      "3\n",
      "4\n",
      "5\n"
     ]
    }
   ],
   "source": [
    "my_list = [1, 2, 3, 4, 5]\n",
    "iterator = iter(my_list)   # iter() method is used to create an iterator from an iterable\n",
    "\n",
    "# Using loops to get items\n",
    "# We can loop over iterators to get items\n",
    "for item in iterator:\n",
    "    print(item)"
   ]
  },
  {
   "cell_type": "markdown",
   "metadata": {},
   "source": [
    "### lambda Function in Python\n",
    "\n",
    "* Also known as anonymous function because it is unnamed function.\n",
    "\n",
    "* The are small, unnamed functions defined using the lambda keyword. \n",
    "\n",
    "* They are often used for short, simple operations and can be especially useful when passing functions as arguments to higher-order functions like map, filter, and reduce.\n",
    "\n",
    "* Syntax: \n",
    "\n",
    "        lambda arguments: expression\n",
    "\n",
    "* Syntax with conditional expression\n",
    "\n",
    "        lambda arguments: value_if_true if condition else value_if_false\n"
   ]
  },
  {
   "cell_type": "code",
   "execution_count": 40,
   "metadata": {},
   "outputs": [
    {
     "name": "stdout",
     "output_type": "stream",
     "text": [
      "8\n"
     ]
    }
   ],
   "source": [
    "# Regula function\n",
    "def add(x, y):\n",
    "    return x + y\n",
    "\n",
    "print(add(3, 5))  "
   ]
  },
  {
   "cell_type": "code",
   "execution_count": 42,
   "metadata": {},
   "outputs": [
    {
     "name": "stdout",
     "output_type": "stream",
     "text": [
      "8\n"
     ]
    }
   ],
   "source": [
    "# lambda function\n",
    "add = lambda x, y: x + y\n",
    "print(add(3, 5))"
   ]
  },
  {
   "cell_type": "code",
   "execution_count": 47,
   "metadata": {},
   "outputs": [
    {
     "name": "stdout",
     "output_type": "stream",
     "text": [
      "Even\n",
      "Odd\n"
     ]
    }
   ],
   "source": [
    "# lambda function with if-else\n",
    "check_even_odd = lambda x: \"Even\" if x % 2 == 0 else \"Odd\"\n",
    "\n",
    "print(check_even_odd(10)) \n",
    "print(check_even_odd(7))  \n"
   ]
  },
  {
   "cell_type": "markdown",
   "metadata": {},
   "source": [
    "### map, filter, and reduce in Python\n",
    "\n",
    "* map, filter, and reduce are functional programming tools in Python that allow for efficient and concise data processing.\n",
    "\n",
    "* They enable you to apply functions to collections of data, filter out unwanted elements, and perform cumulative operations.\n",
    "\n",
    "* They are higher order functions because they take function as an argument."
   ]
  },
  {
   "cell_type": "markdown",
   "metadata": {},
   "source": [
    "### map Function\n",
    "\n",
    "* The map function applies a given function to all items in an input list (or any iterable) and returns an iterator with the results.\n",
    "\n",
    "* Syntax: map(function, *iterable)\n",
    "\n",
    "* Usage: Useful for applying a transformation to each item in a collection."
   ]
  },
  {
   "cell_type": "code",
   "execution_count": 34,
   "metadata": {},
   "outputs": [
    {
     "name": "stdout",
     "output_type": "stream",
     "text": [
      "[1, 4, 9, 16, 25]\n"
     ]
    }
   ],
   "source": [
    "def square(x):\n",
    "    return x * x\n",
    "\n",
    "numbers = [1, 2, 3, 4, 5]\n",
    "squared_numbers = map(square, numbers) # output is a map object which is an iterator so we need to convert it into a iterable\n",
    "squared_numbers = list(squared_numbers)\n",
    "\n",
    "print(squared_numbers)\n"
   ]
  },
  {
   "cell_type": "code",
   "execution_count": 43,
   "metadata": {},
   "outputs": [
    {
     "name": "stdout",
     "output_type": "stream",
     "text": [
      "[1, 4, 9, 16, 25]\n"
     ]
    }
   ],
   "source": [
    "# map function with lambda function\n",
    "\n",
    "numbers = [1, 2, 3, 4, 5]\n",
    "squared_numbers = map(lambda x: x * x, numbers)\n",
    "squared_numbers = list(squared_numbers)\n",
    "\n",
    "print(squared_numbers)"
   ]
  },
  {
   "cell_type": "markdown",
   "metadata": {},
   "source": [
    "### filter Function\n",
    "\n",
    "*  The filter function constructs an iterator from elements of an iterable for which a function returns true.\n",
    "\n",
    "* Syntax: filter(function, iterable)\n",
    "\n",
    "* Usage: Useful for filtering elements of a collection based on a condition."
   ]
  },
  {
   "cell_type": "code",
   "execution_count": 36,
   "metadata": {},
   "outputs": [
    {
     "name": "stdout",
     "output_type": "stream",
     "text": [
      "[2, 4, 6]\n"
     ]
    }
   ],
   "source": [
    "def is_even(x):\n",
    "    return x % 2 == 0\n",
    "\n",
    "numbers = [1, 2, 3, 4, 5, 6]\n",
    "\n",
    "even_numbers = filter(is_even, numbers)  # is_even is the function that must return True or False\n",
    "\n",
    "print(list(even_numbers))"
   ]
  },
  {
   "cell_type": "code",
   "execution_count": 44,
   "metadata": {},
   "outputs": [
    {
     "name": "stdout",
     "output_type": "stream",
     "text": [
      "[2, 4, 6]\n"
     ]
    }
   ],
   "source": [
    "# filter function with lambda function\n",
    "\n",
    "numbers = [1, 2, 3, 4, 5, 6]\n",
    "even_numbers = filter(lambda x: x % 2 == 0, numbers)\n",
    "even_numbers = list(even_numbers)\n",
    "\n",
    "print(even_numbers)"
   ]
  },
  {
   "cell_type": "markdown",
   "metadata": {},
   "source": [
    "### reduce Function\n",
    "\n",
    "* The reduce function applies a binary function to the items of an iterable, cumulatively, from left to right, to reduce the iterable to a single value.\n",
    "\n",
    "* Syntax: reduce(function, iterable[, initial])\n",
    "\n",
    "* Usage: Useful for performing cumulative operations on a collection of data.\n"
   ]
  },
  {
   "cell_type": "code",
   "execution_count": 39,
   "metadata": {},
   "outputs": [
    {
     "name": "stdout",
     "output_type": "stream",
     "text": [
      "15\n"
     ]
    }
   ],
   "source": [
    "from functools import reduce\n",
    "\n",
    "def add(x, y):\n",
    "    return x + y\n",
    "\n",
    "numbers = [1, 2, 3, 4, 5]\n",
    "\n",
    "sum_of_numbers = reduce(add, numbers)\n",
    "\n",
    "print(sum_of_numbers) \n"
   ]
  },
  {
   "cell_type": "code",
   "execution_count": 45,
   "metadata": {},
   "outputs": [
    {
     "name": "stdout",
     "output_type": "stream",
     "text": [
      "15\n"
     ]
    }
   ],
   "source": [
    "# reduce function with lambda function\n",
    "from functools import reduce\n",
    "\n",
    "numbers = [1, 2, 3, 4, 5]\n",
    "sum_of_numbers = reduce(lambda x, y: x + y, numbers)\n",
    "\n",
    "print(sum_of_numbers)"
   ]
  },
  {
   "cell_type": "markdown",
   "metadata": {},
   "source": [
    "### Generators in Python\n",
    "\n",
    "* Generator is a function that returns an iterator that produces a sequence of values when iterated over.\n",
    "\n",
    "* Generators are useful when we want to produce a large sequence of values, but we don't want to store all of them in memory at once.\n",
    "\n",
    "* Generators generate values on the fly and can be iterated over only once.\n",
    "\n",
    "* Benefits: \n",
    "\n",
    "    * Memory Efficiency: Generators are memory-efficient because they yield items one at a time and do not store the entire sequence in memory.\n",
    "\n",
    "    * Lazy Evaluation: Generators generate items only when requested, which can improve performance when dealing with large datasets.\n",
    "\n",
    "\n"
   ]
  },
  {
   "cell_type": "markdown",
   "metadata": {},
   "source": [
    "Creating Generator using Generator Function\n",
    "* A generator function is defined like a normal function but uses the yield statement to return data instead of return statement. \n",
    "\n",
    "* When yield is called, the function's state is saved, and the value is returned to the caller. The function can be resumed later from where it left off."
   ]
  },
  {
   "cell_type": "code",
   "execution_count": 15,
   "metadata": {},
   "outputs": [
    {
     "name": "stdout",
     "output_type": "stream",
     "text": [
      "<generator object my_generator at 0x7f7984ac8dd0>\n",
      "0\n",
      "1\n",
      "2\n",
      "3\n",
      "4\n"
     ]
    }
   ],
   "source": [
    "# Generator function definition\n",
    "def my_generator(n):\n",
    "    for i in range(n):\n",
    "        yield i\n",
    "\n",
    "# When we call the generator function, it returns an iterator object\n",
    "my_iterator = my_generator(5)\n",
    "print(my_iterator)\n",
    "\n",
    "# Similar to any other iterator, we can use access the items in two different ways\n",
    "    # 1. Using a for loop\n",
    "    # 2. Using next() function\n",
    "    \n",
    "# Using a for loop\n",
    "for item in my_iterator:\n",
    "    print(item)\n",
    "\n",
    "# IMP: Generator will generate items one by one and only once\n",
    "# So if we try to loop over the generator again, it will no longer generate items\n",
    "for item in my_iterator:\n",
    "    print(\"Again\",item)"
   ]
  },
  {
   "cell_type": "code",
   "execution_count": 16,
   "metadata": {},
   "outputs": [
    {
     "name": "stdout",
     "output_type": "stream",
     "text": [
      "0\n",
      "1\n",
      "2\n",
      "3\n",
      "4\n"
     ]
    },
    {
     "ename": "StopIteration",
     "evalue": "",
     "output_type": "error",
     "traceback": [
      "\u001b[0;31m---------------------------------------------------------------------------\u001b[0m",
      "\u001b[0;31mStopIteration\u001b[0m                             Traceback (most recent call last)",
      "Cell \u001b[0;32mIn[16], line 8\u001b[0m\n\u001b[1;32m      6\u001b[0m \u001b[38;5;28mprint\u001b[39m(\u001b[38;5;28mnext\u001b[39m(my_iterator))  \u001b[38;5;66;03m# This will return 3\u001b[39;00m\n\u001b[1;32m      7\u001b[0m \u001b[38;5;28mprint\u001b[39m(\u001b[38;5;28mnext\u001b[39m(my_iterator))  \u001b[38;5;66;03m# This will return 4\u001b[39;00m\n\u001b[0;32m----> 8\u001b[0m \u001b[38;5;28mprint\u001b[39m(\u001b[38;5;28;43mnext\u001b[39;49m\u001b[43m(\u001b[49m\u001b[43mmy_iterator\u001b[49m\u001b[43m)\u001b[49m)  \u001b[38;5;66;03m# This will raise StopIteration error\u001b[39;00m\n",
      "\u001b[0;31mStopIteration\u001b[0m: "
     ]
    }
   ],
   "source": [
    "# Using next() function\n",
    "my_iterator = my_generator(5)\n",
    "print(next(my_iterator))  # This will return 0\n",
    "print(next(my_iterator))  # This will return 1\n",
    "print(next(my_iterator))  # This will return 2\n",
    "print(next(my_iterator))  # This will return 3\n",
    "print(next(my_iterator))  # This will return 4\n",
    "print(next(my_iterator))  # This will raise StopIteration error"
   ]
  },
  {
   "cell_type": "markdown",
   "metadata": {},
   "source": [
    "Creating Generators Using Generator Expression\n",
    "\n",
    "* Generator expression is a concise way to create a generator object.\n",
    "\n",
    "* It is similar to a list comprehension, but instead of creating a list, it creates a generator object that can be iterated over to produce the values in the generator.\n",
    "\n",
    "* It uses parenthesis () instead of square bracket.\n",
    "* Syntax: \n",
    "\n",
    "        (expression for item in iterable)"
   ]
  },
  {
   "cell_type": "code",
   "execution_count": 17,
   "metadata": {},
   "outputs": [
    {
     "name": "stdout",
     "output_type": "stream",
     "text": [
      "0\n",
      "1\n",
      "2\n",
      "3\n",
      "4\n"
     ]
    }
   ],
   "source": [
    "my_iterator_from_gen_expr = (x  for x in range(5))\n",
    "\n",
    "# Using the generator expression\n",
    "for value in my_iterator_from_gen_expr:\n",
    "    print(value)\n"
   ]
  },
  {
   "cell_type": "markdown",
   "metadata": {},
   "source": [
    "### Passing Function as Arguments\n",
    "\n",
    "* In python, we can pass function as arguments similar to integers, floats, strings etc. because function is also an object."
   ]
  },
  {
   "cell_type": "code",
   "execution_count": 19,
   "metadata": {},
   "outputs": [
    {
     "name": "stdout",
     "output_type": "stream",
     "text": [
      "Hello from function2\n",
      "Hello from function1\n"
     ]
    }
   ],
   "source": [
    "def function1():\n",
    "    print(\"Hello from function1\")\n",
    "    \n",
    "def function2(func):\n",
    "    print(\"Hello from function2\")\n",
    "    func()\n",
    "    \n",
    "# Calling function2 with function1 as an argument\n",
    "function2(function1)  # We pass only reference to function1 object"
   ]
  },
  {
   "cell_type": "markdown",
   "metadata": {},
   "source": [
    "### Returning Function\n"
   ]
  },
  {
   "cell_type": "code",
   "execution_count": 20,
   "metadata": {},
   "outputs": [
    {
     "name": "stdout",
     "output_type": "stream",
     "text": [
      "Hello from outer_func\n",
      "Hello from inner_func\n"
     ]
    }
   ],
   "source": [
    "def outer_func():\n",
    "    print(\"Hello from outer_func\")\n",
    "    \n",
    "    # Defining function within function\n",
    "    def inner_func():\n",
    "        print(\"Hello from inner_func\")\n",
    "    \n",
    "    return inner_func   # Returning only reference to inner_func without calling\n",
    "\n",
    "\n",
    "my_func = outer_func()\n",
    "my_func()"
   ]
  },
  {
   "cell_type": "markdown",
   "metadata": {},
   "source": [
    "### Decorators in Python\n",
    "* A decorator is a function that takes another function and extends or alters its behavior. \n",
    "\n",
    "*  We use decorators to add additional functionality to existing functions.\n",
    "\n",
    "* A basic decorator takes a function as an argument and returns a new function that adds some behavior before or after the original function.\n",
    "\n",
    "* Decorators are commonly used for logging, access control, instrumentation, caching, and more.\n",
    "\n",
    "* While creating decorator we need to follow three major steps:\n",
    "    1. We pass our original function to our decorator function.\n",
    "\n",
    "    2. Inside decorator function, we have to define a wrapper function which will add additional logic and then call the original function and then return the result.\n",
    "    \n",
    "    3. At last we have to return the reference of wrapper function from our decorator function."
   ]
  },
  {
   "cell_type": "code",
   "execution_count": 30,
   "metadata": {},
   "outputs": [
    {
     "name": "stdout",
     "output_type": "stream",
     "text": [
      "Squrare root of 4:  2.0\n"
     ]
    },
    {
     "ename": "ValueError",
     "evalue": "Only positive numbers are allowed. Error msg displayed from decorator.",
     "output_type": "error",
     "traceback": [
      "\u001b[0;31m---------------------------------------------------------------------------\u001b[0m",
      "\u001b[0;31mValueError\u001b[0m                                Traceback (most recent call last)",
      "Cell \u001b[0;32mIn[30], line 23\u001b[0m\n\u001b[1;32m     21\u001b[0m func \u001b[38;5;241m=\u001b[39m positive_number_only_decorator(calculate_square_root)\n\u001b[1;32m     22\u001b[0m \u001b[38;5;28mprint\u001b[39m(\u001b[38;5;124m\"\u001b[39m\u001b[38;5;124mSqurare root of 4: \u001b[39m\u001b[38;5;124m\"\u001b[39m, func(\u001b[38;5;241m4\u001b[39m))\n\u001b[0;32m---> 23\u001b[0m \u001b[38;5;28mprint\u001b[39m(\u001b[38;5;124m\"\u001b[39m\u001b[38;5;124mSquare root of -4:\u001b[39m\u001b[38;5;124m\"\u001b[39m,\u001b[43mfunc\u001b[49m\u001b[43m(\u001b[49m\u001b[38;5;241;43m-\u001b[39;49m\u001b[38;5;241;43m4\u001b[39;49m\u001b[43m)\u001b[49m)  \u001b[38;5;66;03m# This will raise error\u001b[39;00m\n",
      "Cell \u001b[0;32mIn[30], line 14\u001b[0m, in \u001b[0;36mpositive_number_only_decorator.<locals>.wrapper\u001b[0;34m(num)\u001b[0m\n\u001b[1;32m     12\u001b[0m \u001b[38;5;28;01mdef\u001b[39;00m \u001b[38;5;21mwrapper\u001b[39m(num):  \u001b[38;5;66;03m# The wrapper function will take argument num from the original function\u001b[39;00m\n\u001b[1;32m     13\u001b[0m     \u001b[38;5;28;01mif\u001b[39;00m num \u001b[38;5;241m<\u001b[39m \u001b[38;5;241m0\u001b[39m:\n\u001b[0;32m---> 14\u001b[0m         \u001b[38;5;28;01mraise\u001b[39;00m \u001b[38;5;167;01mValueError\u001b[39;00m(\u001b[38;5;124m\"\u001b[39m\u001b[38;5;124mOnly positive numbers are allowed. Error msg displayed from decorator.\u001b[39m\u001b[38;5;124m\"\u001b[39m)\n\u001b[1;32m     15\u001b[0m     square_root \u001b[38;5;241m=\u001b[39m func(num)\n\u001b[1;32m     16\u001b[0m     \u001b[38;5;28;01mreturn\u001b[39;00m square_root\n",
      "\u001b[0;31mValueError\u001b[0m: Only positive numbers are allowed. Error msg displayed from decorator."
     ]
    }
   ],
   "source": [
    "import math\n",
    "\n",
    "# This is our original function\n",
    "def calculate_square_root(number):\n",
    "    \"\"\"Calculate the square root of a positive number.\"\"\"\n",
    "    return math.sqrt(number)\n",
    "\n",
    "\n",
    "# This is our decorator which checks if the number is positive (additional logic)\n",
    "def positive_number_only_decorator(func):\n",
    "\n",
    "    def wrapper(num):  # The wrapper function will take argument num from the original function\n",
    "        if num < 0:\n",
    "            raise ValueError(\"Only positive numbers are allowed. Error msg displayed from decorator.\")\n",
    "        square_root = func(num)\n",
    "        return square_root\n",
    "    \n",
    "    return wrapper\n",
    "\n",
    "# Decorating our original function\n",
    "func = positive_number_only_decorator(calculate_square_root)\n",
    "print(\"Squrare root of 4: \", func(4))\n",
    "print(\"Square root of -4:\",func(-4))  # This will raise error"
   ]
  },
  {
   "cell_type": "markdown",
   "metadata": {},
   "source": [
    "Shorthand way to use decorator\n",
    "* We can decorate our original function by using @ syntax.\n",
    "\n",
    "* We specify the decorator name to be used before the definition of original function as shown below."
   ]
  },
  {
   "cell_type": "code",
   "execution_count": 29,
   "metadata": {},
   "outputs": [
    {
     "name": "stdout",
     "output_type": "stream",
     "text": [
      "Squrare root of 4:  2.0\n"
     ]
    },
    {
     "ename": "ValueError",
     "evalue": "Only positive numbers are allowed. Error msg displayed from decorator.",
     "output_type": "error",
     "traceback": [
      "\u001b[0;31m---------------------------------------------------------------------------\u001b[0m",
      "\u001b[0;31mValueError\u001b[0m                                Traceback (most recent call last)",
      "Cell \u001b[0;32mIn[29], line 21\u001b[0m\n\u001b[1;32m     18\u001b[0m     \u001b[38;5;28;01mreturn\u001b[39;00m math\u001b[38;5;241m.\u001b[39msqrt(number)\n\u001b[1;32m     20\u001b[0m \u001b[38;5;28mprint\u001b[39m(\u001b[38;5;124m\"\u001b[39m\u001b[38;5;124mSqurare root of 4: \u001b[39m\u001b[38;5;124m\"\u001b[39m, func(\u001b[38;5;241m4\u001b[39m))\n\u001b[0;32m---> 21\u001b[0m \u001b[38;5;28mprint\u001b[39m(\u001b[38;5;124m\"\u001b[39m\u001b[38;5;124mSquare root of -4:\u001b[39m\u001b[38;5;124m\"\u001b[39m,\u001b[43mfunc\u001b[49m\u001b[43m(\u001b[49m\u001b[38;5;241;43m-\u001b[39;49m\u001b[38;5;241;43m4\u001b[39;49m\u001b[43m)\u001b[49m)  \u001b[38;5;66;03m# This will raise error\u001b[39;00m\n",
      "Cell \u001b[0;32mIn[28], line 14\u001b[0m, in \u001b[0;36mpositive_number_only_decorator.<locals>.wrapper\u001b[0;34m(num)\u001b[0m\n\u001b[1;32m     12\u001b[0m \u001b[38;5;28;01mdef\u001b[39;00m \u001b[38;5;21mwrapper\u001b[39m(num):  \u001b[38;5;66;03m# The wrapper function will take argument num from the original function\u001b[39;00m\n\u001b[1;32m     13\u001b[0m     \u001b[38;5;28;01mif\u001b[39;00m num \u001b[38;5;241m<\u001b[39m \u001b[38;5;241m0\u001b[39m:\n\u001b[0;32m---> 14\u001b[0m         \u001b[38;5;28;01mraise\u001b[39;00m \u001b[38;5;167;01mValueError\u001b[39;00m(\u001b[38;5;124m\"\u001b[39m\u001b[38;5;124mOnly positive numbers are allowed. Error msg displayed from decorator.\u001b[39m\u001b[38;5;124m\"\u001b[39m)\n\u001b[1;32m     15\u001b[0m     \u001b[38;5;28;01mreturn\u001b[39;00m func(num)\n",
      "\u001b[0;31mValueError\u001b[0m: Only positive numbers are allowed. Error msg displayed from decorator."
     ]
    }
   ],
   "source": [
    "import math\n",
    "\n",
    "# This is our decorator which checks if the number is positive (additional logic)\n",
    "def positive_number_only_decorator(func):\n",
    "\n",
    "    def wrapper(num):  # The wrapper function will take argument num from the original function\n",
    "        if num < 0:\n",
    "            raise ValueError(\"Only positive numbers are allowed. Error msg displayed from decorator.\")\n",
    "        square_root = func(num)\n",
    "        return square_root\n",
    "    \n",
    "    return wrapper\n",
    "\n",
    "# Decorating our original function\n",
    "@positive_number_only_decorator\n",
    "def calculate_square_root(number):\n",
    "    \"\"\"Calculate the square root of a positive number.\"\"\"\n",
    "    return math.sqrt(number)\n",
    "\n",
    "print(\"Squrare root of 4: \", func(4))\n",
    "print(\"Square root of -4:\",func(-4))  # This will raise error"
   ]
  },
  {
   "cell_type": "markdown",
   "metadata": {},
   "source": [
    "### Assignment 3.2\n",
    "1. Use a custom defined timeit decorator to measure the execution time of any function. Use time module to compute time.\n",
    "        \n",
    "        Hint:\n",
    "        import time\n",
    "        current_time = time.time()"
   ]
  },
  {
   "cell_type": "code",
   "execution_count": null,
   "metadata": {},
   "outputs": [],
   "source": [
    "    "
   ]
  }
 ],
 "metadata": {
  "kernelspec": {
   "display_name": "Python 3",
   "language": "python",
   "name": "python3"
  },
  "language_info": {
   "codemirror_mode": {
    "name": "ipython",
    "version": 3
   },
   "file_extension": ".py",
   "mimetype": "text/x-python",
   "name": "python",
   "nbconvert_exporter": "python",
   "pygments_lexer": "ipython3",
   "version": "3.8.10"
  }
 },
 "nbformat": 4,
 "nbformat_minor": 2
}
