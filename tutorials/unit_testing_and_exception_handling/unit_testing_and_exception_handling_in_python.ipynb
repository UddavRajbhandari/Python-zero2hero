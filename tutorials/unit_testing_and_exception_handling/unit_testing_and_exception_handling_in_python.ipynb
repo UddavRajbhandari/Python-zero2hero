{
 "cells": [
  {
   "cell_type": "markdown",
   "metadata": {},
   "source": [
    "## Lesson 8: Unit Testing and Exception Handling  \n",
    "* Objectives:  \n",
    "\n",
    "    1. Importance of unit testing \n",
    "\n",
    "    2. Writing test cases  \n",
    "\n",
    "    3. Try, except, and finally\n",
    "\n",
    "    4. Custom exceptions \n",
    "     \n",
    "    5. Debugging techniques  "
   ]
  },
  {
   "cell_type": "markdown",
   "metadata": {},
   "source": [
    "### Unit Testing\n",
    "\n",
    "* Unit testing is a method of testing individual units of source code to determine if they are fit for use.  \n",
    "\n",
    "* In Python, the unittest module, which is part of the standard library, provides a framework for creating and running unit tests."
   ]
  },
  {
   "cell_type": "markdown",
   "metadata": {},
   "source": [
    "### assert Statement\n",
    "\n",
    "* Assertions are statements that assert or state a fact confidently in your program.\n",
    "\n",
    "* It is also a debugging tool as it halts the program as soon as an error occurs and displays it.\n",
    "\n",
    "* Syntax: \n",
    "    * assert \\<condition>\n",
    "    * assert \\<condition>, \\<error message>"
   ]
  },
  {
   "cell_type": "code",
   "execution_count": 3,
   "metadata": {},
   "outputs": [
    {
     "ename": "AssertionError",
     "evalue": "Divide by zero error",
     "output_type": "error",
     "traceback": [
      "\u001b[0;31m---------------------------------------------------------------------------\u001b[0m",
      "\u001b[0;31mAssertionError\u001b[0m                            Traceback (most recent call last)",
      "Cell \u001b[0;32mIn[3], line 6\u001b[0m\n\u001b[1;32m      2\u001b[0m     \u001b[38;5;28;01massert\u001b[39;00m y \u001b[38;5;241m!=\u001b[39m \u001b[38;5;241m0\u001b[39m, \u001b[38;5;124m\"\u001b[39m\u001b[38;5;124mDivide by zero error\u001b[39m\u001b[38;5;124m\"\u001b[39m\n\u001b[1;32m      3\u001b[0m     \u001b[38;5;28;01mreturn\u001b[39;00m x \u001b[38;5;241m/\u001b[39m y\n\u001b[0;32m----> 6\u001b[0m \u001b[43mdiv\u001b[49m\u001b[43m(\u001b[49m\u001b[38;5;241;43m1\u001b[39;49m\u001b[43m,\u001b[49m\u001b[43m \u001b[49m\u001b[38;5;241;43m0\u001b[39;49m\u001b[43m)\u001b[49m\n",
      "Cell \u001b[0;32mIn[3], line 2\u001b[0m, in \u001b[0;36mdiv\u001b[0;34m(x, y)\u001b[0m\n\u001b[1;32m      1\u001b[0m \u001b[38;5;28;01mdef\u001b[39;00m \u001b[38;5;21mdiv\u001b[39m(x, y):\n\u001b[0;32m----> 2\u001b[0m     \u001b[38;5;28;01massert\u001b[39;00m y \u001b[38;5;241m!=\u001b[39m \u001b[38;5;241m0\u001b[39m, \u001b[38;5;124m\"\u001b[39m\u001b[38;5;124mDivide by zero error\u001b[39m\u001b[38;5;124m\"\u001b[39m\n\u001b[1;32m      3\u001b[0m     \u001b[38;5;28;01mreturn\u001b[39;00m x \u001b[38;5;241m/\u001b[39m y\n",
      "\u001b[0;31mAssertionError\u001b[0m: Divide by zero error"
     ]
    }
   ],
   "source": [
    "def div(x, y):\n",
    "    assert y != 0, \"Divide by zero error\"\n",
    "    return x / y\n",
    "\n",
    "\n",
    "div(1, 0)"
   ]
  },
  {
   "cell_type": "markdown",
   "metadata": {},
   "source": [
    "### Creating Unit tests with unittest module\n",
    "\n",
    "* A test case is a single unit of testing. \n",
    "\n",
    "* To create a test case, we define a class that inherits from unittest.TestCase and add test methods. \n",
    "\n",
    "* Each test method should start with the word test.\n",
    "\n",
    "* For more on unittest, please refer to official documentation [here](https://docs.python.org/3/library/unittest.html)."
   ]
  },
  {
   "cell_type": "markdown",
   "metadata": {},
   "source": [
    "Create a file mytest.py"
   ]
  },
  {
   "cell_type": "code",
   "execution_count": 4,
   "metadata": {},
   "outputs": [],
   "source": [
    "# Inside mytest.py\n",
    "# First we should import the unittest module\n",
    "import unittest\n",
    "\n",
    "# This is the function we want to test\n",
    "def div(x, y):\n",
    "    return x / y\n",
    "\n",
    "class TestDiv(unittest.TestCase):\n",
    "    # We will write tests here which will test the vulnerable function\n",
    "    def test_div_by_zero(self):\n",
    "        self.assertRaises(ZeroDivisionError, div, 1, 0)\n",
    "        \n",
    "    def test_div_pass(self):\n",
    "        self.assertEqual(div(1, 1), 1)\n",
    "        self.assertGreaterEqual(div(1, 2), 0.5)\n",
    "        \n",
    "    def test_div_fail(self):\n",
    "        self.assertEqual(div(1, 1), 2)\n",
    "\n",
    "if __name__ == '__main__':\n",
    "    unittest.main()"
   ]
  },
  {
   "cell_type": "markdown",
   "metadata": {},
   "source": [
    "Run the test file mytest.py\n",
    ">python mytest.py"
   ]
  },
  {
   "cell_type": "markdown",
   "metadata": {},
   "source": [
    "### Creating TestCases with pytest\n",
    "\n",
    "* pytest is a popular third-party testing framework that offers a simpler and more powerful testing experience compared to unittest.\n",
    "\n",
    "* Installing pytest:\n",
    "\n",
    "    > pip install pytest"
   ]
  },
  {
   "cell_type": "markdown",
   "metadata": {},
   "source": [
    "Create a test file mytest_new.py"
   ]
  },
  {
   "cell_type": "code",
   "execution_count": null,
   "metadata": {},
   "outputs": [],
   "source": [
    "def add(x, y):\n",
    "    return x + y\n",
    "\n",
    "# All test cases should have test_ prefix\n",
    "def test_add_pass(self):\n",
    "    assert add(1, 1) == 2\n",
    "    assert add(10, 10.5) == 20.5\n",
    "    \n",
    "def test_add_fail(self):\n",
    "    assert add(1, 1) == 3\n",
    "    assert add(10, 10.5) == 22"
   ]
  },
  {
   "cell_type": "markdown",
   "metadata": {},
   "source": [
    "Run the test file using pytest.\n",
    "> pytest mytest_new.py"
   ]
  },
  {
   "cell_type": "markdown",
   "metadata": {},
   "source": [
    "### Exception Handling in Python\n",
    "\n",
    "* Error and exception handling is a crucial part of programming that allows our code to handle unexpected situations gracefully, preventing crashes and providing meaningful error messages to users."
   ]
  },
  {
   "cell_type": "markdown",
   "metadata": {},
   "source": [
    "**Using try, except, else, and finally**\n",
    "\n",
    "* The try block lets you test a block of code for errors\n",
    "\n",
    "* The except block lets you handle the error. \n",
    "\n",
    "* The else block lets you execute code if no error occurs.\n",
    "\n",
    "* The finally block lets you execute code, regardless of the result of the try and except blocks."
   ]
  },
  {
   "cell_type": "code",
   "execution_count": 1,
   "metadata": {},
   "outputs": [],
   "source": [
    "try:\n",
    "    # Code that may raise an exception\n",
    "    pass\n",
    "except ExceptionType:\n",
    "    # Code that runs if the exception occurs\n",
    "    pass\n",
    "else:\n",
    "    # Code that runs if no exception occurs\n",
    "    pass\n",
    "finally:\n",
    "    # Code that runs no matter what\n",
    "    pass"
   ]
  },
  {
   "cell_type": "markdown",
   "metadata": {},
   "source": [
    "Example"
   ]
  },
  {
   "cell_type": "code",
   "execution_count": 3,
   "metadata": {},
   "outputs": [
    {
     "name": "stdout",
     "output_type": "stream",
     "text": [
      "Cannot divide by zero!\n",
      "This is finally block, it will run no matter what.\n"
     ]
    }
   ],
   "source": [
    "try:\n",
    "    result = 10 / 0\n",
    "except ZeroDivisionError:\n",
    "    print(\"Cannot divide by zero!\")\n",
    "else:\n",
    "    print(\"Division successful!\")\n",
    "finally:\n",
    "    print(\"This is finally block, it will run no matter what.\")"
   ]
  },
  {
   "cell_type": "markdown",
   "metadata": {},
   "source": [
    "Multiple Exceptions"
   ]
  },
  {
   "cell_type": "code",
   "execution_count": 13,
   "metadata": {},
   "outputs": [
    {
     "name": "stdout",
     "output_type": "stream",
     "text": [
      "Cannot divide by zero.\n",
      "Execution completed.\n"
     ]
    }
   ],
   "source": [
    "numerator = 10\n",
    "denominator = 0\n",
    "\n",
    "try:\n",
    "    result = numerator / denominator\n",
    "except ValueError:\n",
    "    print(\"Invalid input. Please enter a valid number.\")\n",
    "except ZeroDivisionError:\n",
    "    print(\"Cannot divide by zero.\")\n",
    "else:\n",
    "    print(f\"Result: {result}\")\n",
    "finally:\n",
    "    print(\"Execution completed.\")\n"
   ]
  },
  {
   "cell_type": "markdown",
   "metadata": {},
   "source": [
    "**Built-In Exceptions**\n",
    "\n",
    "* Python has many built-in exceptions that are raised when the program encounters an error.\n",
    "\n",
    "    * ZeroDivisionError: Raised when division by zero is attempted.\n",
    "\n",
    "    * IndexError: Raised when an index is not found in a sequence.\n",
    "\n",
    "    * KeyError: Raised when a key is not found in a dictionary.\n",
    "\n",
    "    * TypeError: Raised when an operation or function is applied to an object of inappropriate type.\n",
    "    \n",
    "    * ValueError: Raised when a function receives an argument of the correct type but inappropriate value."
   ]
  },
  {
   "cell_type": "markdown",
   "metadata": {},
   "source": [
    "Example"
   ]
  },
  {
   "cell_type": "code",
   "execution_count": 6,
   "metadata": {},
   "outputs": [
    {
     "name": "stdout",
     "output_type": "stream",
     "text": [
      "list index out of range\n",
      "My custom message: Index out of range!\n"
     ]
    }
   ],
   "source": [
    "try:\n",
    "    my_list = [1, 2, 3]\n",
    "    print(my_list[5])\n",
    "except IndexError as e:\n",
    "    print(e)\n",
    "    print(\"My custom message: Index out of range!\")"
   ]
  },
  {
   "cell_type": "markdown",
   "metadata": {},
   "source": [
    "**Raising Exceptions**\n",
    "* We can raise exceptions using the raise keyword"
   ]
  },
  {
   "cell_type": "code",
   "execution_count": 8,
   "metadata": {},
   "outputs": [
    {
     "name": "stdout",
     "output_type": "stream",
     "text": [
      "Cannot take square root of negative number\n"
     ]
    }
   ],
   "source": [
    "def square_root(x):\n",
    "    if x < 0:\n",
    "        raise ValueError(\"Cannot take square root of negative number\")\n",
    "    return x**0.5\n",
    "\n",
    "# Since the square_root function may raise exception during runtime, we need to handle it\n",
    "try:\n",
    "    square_root(-1)\n",
    "except ValueError as e:\n",
    "    print(e)"
   ]
  },
  {
   "cell_type": "markdown",
   "metadata": {},
   "source": [
    "**Creating Custom Exceptions**\n",
    "* Custom exceptions can be created by inheriting from the Exception class.\n",
    "\n",
    "* Custom exceptions allow you to define your own error types."
   ]
  },
  {
   "cell_type": "code",
   "execution_count": 15,
   "metadata": {},
   "outputs": [
    {
     "name": "stdout",
     "output_type": "stream",
     "text": [
      "Exception occurred: Invalid Age\n"
     ]
    }
   ],
   "source": [
    "# Custom exception\n",
    "class InvalidAgeException(Exception):\n",
    "    \"Raised when the input value is less than 18\"\n",
    "    pass"
   ]
  },
  {
   "cell_type": "code",
   "execution_count": 16,
   "metadata": {},
   "outputs": [
    {
     "name": "stdout",
     "output_type": "stream",
     "text": [
      "Exception occurred: Invalid Age\n"
     ]
    }
   ],
   "source": [
    "age = 17\n",
    "\n",
    "try:\n",
    "    if age < 18:\n",
    "        raise InvalidAgeException\n",
    "    else:\n",
    "        print(\"Eligible to Vote\")\n",
    "        \n",
    "except InvalidAgeException:\n",
    "    print(\"Exception occurred: Invalid Age\")"
   ]
  },
  {
   "cell_type": "markdown",
   "metadata": {},
   "source": [
    "**Customizing Exception Classes**"
   ]
  },
  {
   "cell_type": "code",
   "execution_count": 25,
   "metadata": {},
   "outputs": [],
   "source": [
    "class InvalidAgeException(Exception):\n",
    "    \"Raised when the input value is less than 18\"\n",
    "    def __init__(self, age, message=\"Age should be greater than 18 to vote\"):\n",
    "        self.age = age\n",
    "        self.message = f\"{age} < 18: {message}\"\n",
    "        super().__init__(self.message)\n",
    "        "
   ]
  },
  {
   "cell_type": "code",
   "execution_count": 24,
   "metadata": {},
   "outputs": [
    {
     "name": "stdout",
     "output_type": "stream",
     "text": [
      "Eligible to Vote\n"
     ]
    }
   ],
   "source": [
    "age = 18\n",
    "\n",
    "try:\n",
    "    if age < 18:\n",
    "        raise InvalidAgeException(age)\n",
    "    else:\n",
    "        print(\"Eligible to Vote\")\n",
    "        \n",
    "except InvalidAgeException as e:\n",
    "    print(e)"
   ]
  },
  {
   "cell_type": "code",
   "execution_count": null,
   "metadata": {},
   "outputs": [],
   "source": []
  }
 ],
 "metadata": {
  "kernelspec": {
   "display_name": "Python 3",
   "language": "python",
   "name": "python3"
  },
  "language_info": {
   "codemirror_mode": {
    "name": "ipython",
    "version": 3
   },
   "file_extension": ".py",
   "mimetype": "text/x-python",
   "name": "python",
   "nbconvert_exporter": "python",
   "pygments_lexer": "ipython3",
   "version": "3.8.10"
  }
 },
 "nbformat": 4,
 "nbformat_minor": 2
}
